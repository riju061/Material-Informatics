{
  "nbformat": 4,
  "nbformat_minor": 0,
  "metadata": {
    "colab": {
      "name": "FrozenLake.ipynb",
      "provenance": [],
      "collapsed_sections": []
    },
    "kernelspec": {
      "name": "python3",
      "display_name": "Python 3"
    },
    "language_info": {
      "name": "python"
    }
  },
  "cells": [
    {
      "cell_type": "code",
      "execution_count": 1,
      "metadata": {
        "colab": {
          "base_uri": "https://localhost:8080/"
        },
        "id": "KpFr64YOcExr",
        "outputId": "e430fc07-2ca5-4bc6-ad11-2c405befba6e"
      },
      "outputs": [
        {
          "output_type": "stream",
          "name": "stdout",
          "text": [
            "Requirement already satisfied: gym in /usr/local/lib/python3.7/dist-packages (0.17.3)\n",
            "Requirement already satisfied: numpy>=1.10.4 in /usr/local/lib/python3.7/dist-packages (from gym) (1.21.5)\n",
            "Requirement already satisfied: scipy in /usr/local/lib/python3.7/dist-packages (from gym) (1.4.1)\n",
            "Requirement already satisfied: pyglet<=1.5.0,>=1.4.0 in /usr/local/lib/python3.7/dist-packages (from gym) (1.5.0)\n",
            "Requirement already satisfied: cloudpickle<1.7.0,>=1.2.0 in /usr/local/lib/python3.7/dist-packages (from gym) (1.3.0)\n",
            "Requirement already satisfied: future in /usr/local/lib/python3.7/dist-packages (from pyglet<=1.5.0,>=1.4.0->gym) (0.16.0)\n"
          ]
        }
      ],
      "source": [
        "! pip install gym"
      ]
    },
    {
      "cell_type": "code",
      "source": [
        "import numpy as np\n",
        "import gym\n",
        "import random\n",
        "import time\n",
        "from IPython.display import clear_output"
      ],
      "metadata": {
        "id": "FpeLk0rzcIRt"
      },
      "execution_count": 5,
      "outputs": []
    },
    {
      "cell_type": "code",
      "source": [
        "env= gym.make(\"FrozenLake-v0\")"
      ],
      "metadata": {
        "id": "xLzis2SYcS-q"
      },
      "execution_count": 6,
      "outputs": []
    },
    {
      "cell_type": "code",
      "source": [
        "action_space_size = env.action_space.n\n",
        "state_space_size = env.observation_space.n\n",
        "\n",
        "q_table=np.zeros((state_space_size, action_space_size))\n",
        "print(q_table)\n"
      ],
      "metadata": {
        "colab": {
          "base_uri": "https://localhost:8080/"
        },
        "id": "Jt1OveaCcWcT",
        "outputId": "b35a0f3f-2c60-40ce-d6bb-916fdfdb32c0"
      },
      "execution_count": 7,
      "outputs": [
        {
          "output_type": "stream",
          "name": "stdout",
          "text": [
            "[[0. 0. 0. 0.]\n",
            " [0. 0. 0. 0.]\n",
            " [0. 0. 0. 0.]\n",
            " [0. 0. 0. 0.]\n",
            " [0. 0. 0. 0.]\n",
            " [0. 0. 0. 0.]\n",
            " [0. 0. 0. 0.]\n",
            " [0. 0. 0. 0.]\n",
            " [0. 0. 0. 0.]\n",
            " [0. 0. 0. 0.]\n",
            " [0. 0. 0. 0.]\n",
            " [0. 0. 0. 0.]\n",
            " [0. 0. 0. 0.]\n",
            " [0. 0. 0. 0.]\n",
            " [0. 0. 0. 0.]\n",
            " [0. 0. 0. 0.]]\n"
          ]
        }
      ]
    },
    {
      "cell_type": "markdown",
      "source": [
        "Create Parameters to initialize and implement Q learning Algorithm"
      ],
      "metadata": {
        "id": "e74VK3T5dM8c"
      }
    },
    {
      "cell_type": "code",
      "source": [
        "num_episodes=10000\n",
        "max_steps_per_episode=500\n",
        "\n",
        "learning_rate=0.1\n",
        "discount_rate=0.99\n",
        "\n",
        "exploration_rate=1\n",
        "max_exploration_rate=1\n",
        "min_exploration_rate=0.01\n",
        "exploration_decay_rate=0.0001"
      ],
      "metadata": {
        "id": "dMqHkcRWdZmV"
      },
      "execution_count": 46,
      "outputs": []
    },
    {
      "cell_type": "markdown",
      "source": [
        "Array to store the results of the Q-algorithm"
      ],
      "metadata": {
        "id": "jLPleXj1gKqL"
      }
    },
    {
      "cell_type": "code",
      "source": [
        "rewards_all_episodes=[]"
      ],
      "metadata": {
        "id": "wGb4E1_peCro"
      },
      "execution_count": 47,
      "outputs": []
    },
    {
      "cell_type": "code",
      "source": [
        "for episode in range(num_episodes):\n",
        "  state=env.reset()\n",
        "\n",
        "  done =False\n",
        "  rewards_current_episode = 0\n",
        "\n",
        "  for step in range (max_steps_per_episode):\n",
        "    #exploration exploitation trade off\n",
        "\n",
        "    exploration_rate_threshold=random.uniform(0,1)\n",
        "    if exploration_rate_threshold> exploration_rate:\n",
        "      action = np.argmax(q_table[state,:])\n",
        "    else:\n",
        "      action=env.action_space.sample()\n",
        "\n",
        "    new_state,reward,done,info=env.step(action)\n",
        "    #print (reward)\n",
        "\n",
        "    # update the Q table for Q(s,a)\n",
        "    q_table[state,action]=q_table[state,action]*(1-learning_rate) + learning_rate *(reward + discount_rate* np.max(q_table[new_state,:]))\n",
        "\n",
        "    state=new_state\n",
        "    rewards_current_episode += reward\n",
        "\n",
        "    if done == True :\n",
        "      break\n",
        "\n",
        "  exploration_rate= min_exploration_rate + (max_exploration_rate-min_exploration_rate) * np.exp(-exploration_decay_rate* episode)\n",
        "\n",
        "  rewards_all_episodes.append(rewards_current_episode)\n",
        "\n",
        "\n"
      ],
      "metadata": {
        "id": "OzVaDdQAgImO"
      },
      "execution_count": 48,
      "outputs": []
    },
    {
      "cell_type": "code",
      "source": [
        "np.shape(np.array(rewards_all_episodes))"
      ],
      "metadata": {
        "colab": {
          "base_uri": "https://localhost:8080/"
        },
        "id": "58921M3rJ6GJ",
        "outputId": "e71ac886-f23a-481b-ed50-0b3a06ee07ee"
      },
      "execution_count": 49,
      "outputs": [
        {
          "output_type": "execute_result",
          "data": {
            "text/plain": [
              "(10000,)"
            ]
          },
          "metadata": {},
          "execution_count": 49
        }
      ]
    },
    {
      "cell_type": "markdown",
      "source": [
        "Printing the training module for the game"
      ],
      "metadata": {
        "id": "jzDjBF2HO5Xb"
      }
    },
    {
      "cell_type": "code",
      "source": [
        "rewards_per_thousdand_episodes=np.array_split(np.array(rewards_all_episodes),(num_episodes/1000))\n",
        "count=1000\n",
        "print(\"***************Q-Table***************\\n\")\n",
        "for r in rewards_per_thousdand_episodes:\n",
        "  print (count,\":\",str(sum(r/1000)))\n",
        "  count +=1000\n",
        "\n",
        "print(\"\\n\\n**********Q-Table********\\n\")\n",
        "print(q_table)\n",
        "\n"
      ],
      "metadata": {
        "colab": {
          "base_uri": "https://localhost:8080/"
        },
        "id": "8CGcUDI-FKna",
        "outputId": "50736d75-5032-49d2-ca47-646eaff55f77"
      },
      "execution_count": 50,
      "outputs": [
        {
          "output_type": "stream",
          "name": "stdout",
          "text": [
            "***************Q-Table***************\n",
            "\n",
            "1000 : 0.010000000000000002\n",
            "2000 : 0.02100000000000001\n",
            "3000 : 0.02900000000000002\n",
            "4000 : 0.037000000000000026\n",
            "5000 : 0.037000000000000026\n",
            "6000 : 0.04500000000000003\n",
            "7000 : 0.05300000000000004\n",
            "8000 : 0.06700000000000005\n",
            "9000 : 0.09000000000000007\n",
            "10000 : 0.09700000000000007\n",
            "\n",
            "\n",
            "**********Q-Table********\n",
            "\n",
            "[[0.60022404 0.57601809 0.58849909 0.58259799]\n",
            " [0.29144816 0.39868003 0.35349108 0.54331817]\n",
            " [0.45451225 0.44493373 0.4249982  0.47967177]\n",
            " [0.29290399 0.32228461 0.21926915 0.45181137]\n",
            " [0.61813827 0.51014841 0.42197961 0.3990683 ]\n",
            " [0.         0.         0.         0.        ]\n",
            " [0.39515179 0.30546614 0.32206494 0.09037612]\n",
            " [0.         0.         0.         0.        ]\n",
            " [0.41320516 0.43318045 0.47774535 0.6375553 ]\n",
            " [0.6039905  0.69977735 0.39953161 0.51370907]\n",
            " [0.70496856 0.27000202 0.38448342 0.35221562]\n",
            " [0.         0.         0.         0.        ]\n",
            " [0.         0.         0.         0.        ]\n",
            " [0.4995236  0.51218731 0.76838401 0.52023617]\n",
            " [0.82159845 0.88876797 0.82850337 0.78179294]\n",
            " [0.         0.         0.         0.        ]]\n"
          ]
        }
      ]
    }
  ]
}