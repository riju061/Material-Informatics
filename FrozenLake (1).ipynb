{
  "nbformat": 4,
  "nbformat_minor": 0,
  "metadata": {
    "colab": {
      "name": "FrozenLake.ipynb",
      "provenance": [],
      "collapsed_sections": []
    },
    "kernelspec": {
      "name": "python3",
      "display_name": "Python 3"
    },
    "language_info": {
      "name": "python"
    }
  },
  "cells": [
    {
      "cell_type": "code",
      "execution_count": 1,
      "metadata": {
        "colab": {
          "base_uri": "https://localhost:8080/"
        },
        "id": "KpFr64YOcExr",
        "outputId": "be634423-d2d9-48e5-e57a-b37486234c22"
      },
      "outputs": [
        {
          "output_type": "stream",
          "name": "stdout",
          "text": [
            "Requirement already satisfied: gym in /usr/local/lib/python3.7/dist-packages (0.17.3)\n",
            "Requirement already satisfied: cloudpickle<1.7.0,>=1.2.0 in /usr/local/lib/python3.7/dist-packages (from gym) (1.3.0)\n",
            "Requirement already satisfied: numpy>=1.10.4 in /usr/local/lib/python3.7/dist-packages (from gym) (1.21.5)\n",
            "Requirement already satisfied: scipy in /usr/local/lib/python3.7/dist-packages (from gym) (1.4.1)\n",
            "Requirement already satisfied: pyglet<=1.5.0,>=1.4.0 in /usr/local/lib/python3.7/dist-packages (from gym) (1.5.0)\n",
            "Requirement already satisfied: future in /usr/local/lib/python3.7/dist-packages (from pyglet<=1.5.0,>=1.4.0->gym) (0.16.0)\n"
          ]
        }
      ],
      "source": [
        "! pip install gym"
      ]
    },
    {
      "cell_type": "code",
      "source": [
        "import numpy as np\n",
        "import gym\n",
        "import random\n",
        "import time\n",
        "from IPython.display import clear_output"
      ],
      "metadata": {
        "id": "FpeLk0rzcIRt"
      },
      "execution_count": 2,
      "outputs": []
    },
    {
      "cell_type": "code",
      "source": [
        "env= gym.make(\"FrozenLake-v0\")"
      ],
      "metadata": {
        "id": "xLzis2SYcS-q"
      },
      "execution_count": 3,
      "outputs": []
    },
    {
      "cell_type": "code",
      "source": [
        "action_space_size = env.action_space.n\n",
        "state_space_size = env.observation_space.n\n",
        "\n",
        "q_table=np.zeros((state_space_size, action_space_size))\n",
        "print(q_table)\n"
      ],
      "metadata": {
        "colab": {
          "base_uri": "https://localhost:8080/"
        },
        "id": "Jt1OveaCcWcT",
        "outputId": "4a183007-5d8b-413a-d4fe-01824dd7490c"
      },
      "execution_count": 4,
      "outputs": [
        {
          "output_type": "stream",
          "name": "stdout",
          "text": [
            "[[0. 0. 0. 0.]\n",
            " [0. 0. 0. 0.]\n",
            " [0. 0. 0. 0.]\n",
            " [0. 0. 0. 0.]\n",
            " [0. 0. 0. 0.]\n",
            " [0. 0. 0. 0.]\n",
            " [0. 0. 0. 0.]\n",
            " [0. 0. 0. 0.]\n",
            " [0. 0. 0. 0.]\n",
            " [0. 0. 0. 0.]\n",
            " [0. 0. 0. 0.]\n",
            " [0. 0. 0. 0.]\n",
            " [0. 0. 0. 0.]\n",
            " [0. 0. 0. 0.]\n",
            " [0. 0. 0. 0.]\n",
            " [0. 0. 0. 0.]]\n"
          ]
        }
      ]
    },
    {
      "cell_type": "markdown",
      "source": [
        "Create Parameters to initialize and implement Q learning Algorithm"
      ],
      "metadata": {
        "id": "e74VK3T5dM8c"
      }
    },
    {
      "cell_type": "code",
      "source": [
        "num_episodes=10000\n",
        "max_steps_per_episode=500\n",
        "\n",
        "learning_rate=0.1\n",
        "discount_rate=0.99\n",
        "\n",
        "exploration_rate=1\n",
        "max_exploration_rate=1\n",
        "min_exploration_rate=0.01\n",
        "exploration_decay_rate=0.01"
      ],
      "metadata": {
        "id": "dMqHkcRWdZmV"
      },
      "execution_count": 19,
      "outputs": []
    },
    {
      "cell_type": "markdown",
      "source": [
        "Array to store the results of the Q-algorithm"
      ],
      "metadata": {
        "id": "jLPleXj1gKqL"
      }
    },
    {
      "cell_type": "code",
      "source": [
        "rewards_all_episodes=[]"
      ],
      "metadata": {
        "id": "wGb4E1_peCro"
      },
      "execution_count": 20,
      "outputs": []
    },
    {
      "cell_type": "code",
      "source": [
        "for episode in range(num_episodes):\n",
        "  state=env.reset()\n",
        "\n",
        "  done =False\n",
        "  rewards_current_episode = 0\n",
        "\n",
        "  for step in range (max_steps_per_episode):\n",
        "    #exploration exploitation trade off\n",
        "\n",
        "    exploration_rate_threshold=random.uniform(0,1)\n",
        "    if exploration_rate_threshold> exploration_rate:\n",
        "      action = np.argmax(q_table[state,:])\n",
        "    else:\n",
        "      action=env.action_space.sample()\n",
        "\n",
        "    new_state,reward,done,info=env.step(action)\n",
        "    #print (reward)\n",
        "\n",
        "    # update the Q table for Q(s,a)\n",
        "    q_table[state,action]=q_table[state,action]*(1-learning_rate) + learning_rate *(reward + discount_rate* np.max(q_table[new_state,:]))\n",
        "\n",
        "    state=new_state\n",
        "    rewards_current_episode += reward\n",
        "\n",
        "    if done == True :\n",
        "      break\n",
        "\n",
        "  exploration_rate= min_exploration_rate + (max_exploration_rate-min_exploration_rate) * np.exp(-exploration_decay_rate* episode)\n",
        "\n",
        "  rewards_all_episodes.append(rewards_current_episode)\n",
        "\n",
        "\n"
      ],
      "metadata": {
        "id": "OzVaDdQAgImO"
      },
      "execution_count": 21,
      "outputs": []
    },
    {
      "cell_type": "code",
      "source": [
        "np.shape(np.array(rewards_all_episodes))"
      ],
      "metadata": {
        "colab": {
          "base_uri": "https://localhost:8080/"
        },
        "id": "58921M3rJ6GJ",
        "outputId": "7349a469-bd4d-49e4-cca9-c079b4455f4d"
      },
      "execution_count": 22,
      "outputs": [
        {
          "output_type": "execute_result",
          "data": {
            "text/plain": [
              "(10000,)"
            ]
          },
          "metadata": {},
          "execution_count": 22
        }
      ]
    },
    {
      "cell_type": "markdown",
      "source": [
        "Printing the training module for the game"
      ],
      "metadata": {
        "id": "jzDjBF2HO5Xb"
      }
    },
    {
      "cell_type": "code",
      "source": [
        "rewards_per_thousdand_episodes=np.array_split(np.array(rewards_all_episodes),(num_episodes/1000))\n",
        "count=1000\n",
        "print(\"***************Q-Table***************\\n\")\n",
        "for r in rewards_per_thousdand_episodes:\n",
        "  print (count,\":\",str(sum(r/1000)))\n",
        "  count +=1000\n",
        "\n",
        "print(\"\\n\\n**********Q-Table********\\n\")\n",
        "print(q_table)\n",
        "\n"
      ],
      "metadata": {
        "colab": {
          "base_uri": "https://localhost:8080/"
        },
        "id": "8CGcUDI-FKna",
        "outputId": "a7b5cadd-bc80-4527-847f-404a2afbd1fa"
      },
      "execution_count": 23,
      "outputs": [
        {
          "output_type": "stream",
          "name": "stdout",
          "text": [
            "***************Q-Table***************\n",
            "\n",
            "1000 : 0.5230000000000004\n",
            "2000 : 0.7020000000000005\n",
            "3000 : 0.6660000000000005\n",
            "4000 : 0.6640000000000005\n",
            "5000 : 0.6810000000000005\n",
            "6000 : 0.6960000000000005\n",
            "7000 : 0.6940000000000005\n",
            "8000 : 0.6610000000000005\n",
            "9000 : 0.6690000000000005\n",
            "10000 : 0.7040000000000005\n",
            "\n",
            "\n",
            "**********Q-Table********\n",
            "\n",
            "[[0.52809846 0.51334631 0.5021838  0.50838424]\n",
            " [0.27576817 0.35945406 0.3294851  0.48535794]\n",
            " [0.43418612 0.42058632 0.4146529  0.46265768]\n",
            " [0.24496471 0.31515621 0.17040509 0.45228573]\n",
            " [0.53784432 0.5215854  0.37057641 0.4055558 ]\n",
            " [0.         0.         0.         0.        ]\n",
            " [0.14376066 0.18210249 0.36721631 0.05949842]\n",
            " [0.         0.         0.         0.        ]\n",
            " [0.34604285 0.39173945 0.49472911 0.54702551]\n",
            " [0.41478116 0.60263285 0.44560138 0.37568563]\n",
            " [0.57370547 0.38417236 0.40557218 0.39259214]\n",
            " [0.         0.         0.         0.        ]\n",
            " [0.         0.         0.         0.        ]\n",
            " [0.5163733  0.56906263 0.6911701  0.45250277]\n",
            " [0.72115523 0.84169881 0.78685205 0.71443874]\n",
            " [0.         0.         0.         0.        ]]\n"
          ]
        }
      ]
    },
    {
      "cell_type": "markdown",
      "source": [
        "Testing the data"
      ],
      "metadata": {
        "id": "wxblgIyXgP4k"
      }
    },
    {
      "cell_type": "code",
      "source": [
        "for episode in range(3):\n",
        "  state =env.reset()\n",
        "  done=False\n",
        "  print(\"*****Episode \",episode+1,\"*****\\n\\n\\n\")\n",
        "  time.sleep(1)\n",
        "\n",
        "  for step in range(max_steps_per_episode):\n",
        "    clear_output(wait=True)\n",
        "    env.render()\n",
        "    time.sleep(0.3)\n",
        "\n",
        "    action =np.argmax(q_table[state,:])\n",
        "    new_state,reward,done,info=env.step(action)\n",
        "\n",
        "    if done:\n",
        "        clear_output(wait=True)\n",
        "        env.render()\n",
        "        if reward==1:\n",
        "          print(\"****you reached the goal*****\")\n",
        "          time.sleep(3)\n",
        "        else:\n",
        "          print(\"****you fell in hole*****\")\n",
        "          time.sleep(3)\n",
        "\n",
        "        clear_output(wait=True)\n",
        "        break\n",
        "\n",
        "    state=new_state\n",
        "\n",
        "env.close()\n",
        "        \n",
        "\n",
        "      \n",
        "\n",
        "\n",
        "\n",
        "  "
      ],
      "metadata": {
        "colab": {
          "base_uri": "https://localhost:8080/"
        },
        "id": "FqBbfsppgCZs",
        "outputId": "9a2b7c9a-829a-40a5-b113-1b2b8877123c"
      },
      "execution_count": 13,
      "outputs": [
        {
          "output_type": "stream",
          "name": "stdout",
          "text": [
            "  (Left)\n",
            "\u001b[41mS\u001b[0mFFF\n",
            "FHFH\n",
            "FFFH\n",
            "HFFG\n",
            "****you fell in hole*****\n"
          ]
        }
      ]
    },
    {
      "cell_type": "code",
      "source": [
        ""
      ],
      "metadata": {
        "id": "Kzfm3yHRiJVj"
      },
      "execution_count": null,
      "outputs": []
    }
  ]
}